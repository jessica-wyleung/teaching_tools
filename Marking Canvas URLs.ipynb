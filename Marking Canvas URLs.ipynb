{
 "cells": [
  {
   "cell_type": "code",
   "execution_count": 13,
   "metadata": {
    "graffitiCellId": "id_j614rxw"
   },
   "outputs": [],
   "source": [
    "#You need a list of Canvas ID for everyone in your unit of study\n",
    "user_ids = [ ]\n",
    "def get_url_submission(user_id):\n",
    "    import requests\n",
    "    import json\n",
    "    from urllib.request import urlopen\n",
    "    from bs4 import BeautifulSoup\n",
    "    def get_canvas_data(domain, path, access_key):\n",
    "        payload = {'per_page': 100, 'access_token': access_key}\n",
    "        r = requests.get(domain + path, data=payload)\n",
    "        data_list = r.json()\n",
    "        return data_list\n",
    "    # Config for\n",
    "    domain = #your domain here\n",
    "    course_id = #your course_id here\n",
    "    access_key = #your access token here\n",
    "    assignment_id = #assignment_id\n",
    "    # Get data from canvas\n",
    "    data = get_canvas_data(domain, f\"/api/v1/courses/{course_id}/assignments/{assignment_id}/submissions/{user_id}\", access_key)\n",
    "    # Check the url\n",
    "    url = data['url']\n",
    "    SID = data['id']\n", #submission ID
    "    html = urlopen(url).read()\n",
    "    soup = BeautifulSoup(html)\n",
    "    # kill all script and style elements\n",
    "    for script in soup([\"script\", \"style\"]):\n",
    "        script.extract()    # rip it out\n",
    "    # get text\n",
    "    text = soup.get_text()\n",
    "    # break into lines and remove leading and trailing space on each\n",
    "    lines = (line.strip() for line in text.splitlines())\n",
    "    # break multi-headlines into a line each\n",
    "    chunks = (phrase.strip() for line in lines for phrase in line.split(\"  \"))\n",
    "    # drop blank lines\n",
    "    text = '\\n'.join(chunk for chunk in chunks if chunk)\n",
    "    # Checking for the string \"Verified\" and the \"Python for Data Science: Fundamentals\" <- name of the module\n",
    "    f_write = open('HW1_spreadsheet.csv','a')\n",
    "    line = [SID,\"Verified\" in text,\"Python for Data Science: Fundamentals\" in text,text.split('\\n')[3]]\n",
    "    for item in line:\n",
    "        f_write.write(\"{},\".format(item))\n",
    "    f_write.write(\"\\n\")\n",
    "    f_write.close()\n",
    "    print(user_id)\n",
    "    return \"Finish\"\n",
    "\n",
    "f_write = open('HW1_spreadsheet.csv','a')\n",
    "line = ['SID','\"Verified\" in text','\"Python for Data Science: Fundamentals\" in text','Completion Statement']\n",
    "for item in line:\n",
    "    f_write.write(\"{},\".format(item))\n",
    "f_write.write(\"\\n\")\n",
    "f_write.close()\n",
    "for user_id in user_ids:\n",
    "    get_url_submission(user_id)"
   ]
  }
 ],
 "metadata": {
  "graffiti": {
   "firstAuthorId": "dev",
   "id": "id_r1gmlgn",
   "language": "EN"
  },
  "kernelspec": {
   "display_name": "Python 3",
   "language": "python",
   "name": "python3"
  },
  "language_info": {
   "codemirror_mode": {
    "name": "ipython",
    "version": 3
   },
   "file_extension": ".py",
   "mimetype": "text/x-python",
   "name": "python",
   "nbconvert_exporter": "python",
   "pygments_lexer": "ipython3",
   "version": "3.7.3"
  }
 },
 "nbformat": 4,
 "nbformat_minor": 4
}
